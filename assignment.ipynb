{
  "nbformat": 4,
  "nbformat_minor": 0,
  "metadata": {
    "colab": {
      "provenance": []
    },
    "kernelspec": {
      "name": "python3",
      "display_name": "Python 3"
    },
    "language_info": {
      "name": "python"
    }
  },
  "cells": [
    {
      "cell_type": "markdown",
      "source": [
        "Task 1"
      ],
      "metadata": {
        "id": "QD4wzAdZcUmw"
      }
    },
    {
      "cell_type": "code",
      "execution_count": 3,
      "metadata": {
        "colab": {
          "base_uri": "https://localhost:8080/"
        },
        "id": "RR8t5CCzYXYb",
        "outputId": "363e51f8-938d-43b1-bd46-a2b79e8c76bc"
      },
      "outputs": [
        {
          "name": "stdout",
          "output_type": "stream",
          "text": [
            "Enter your first name: Eashah\n",
            "Enter your last name: Emaan\n"
          ]
        }
      ],
      "source": [
        "firstName = input(\"Enter your first name: \")\n",
        "lastName = input(\"Enter your last name: \")\n"
      ]
    },
    {
      "cell_type": "code",
      "source": [
        "print(firstName.lower() ,lastName.lower())"
      ],
      "metadata": {
        "colab": {
          "base_uri": "https://localhost:8080/"
        },
        "id": "ArHElnsRYpuz",
        "outputId": "51959829-5c3d-4a80-f787-79a64082d916"
      },
      "execution_count": 8,
      "outputs": [
        {
          "output_type": "stream",
          "name": "stdout",
          "text": [
            "eashah emaan\n"
          ]
        }
      ]
    },
    {
      "cell_type": "code",
      "source": [
        "print(len(firstName+lastName))"
      ],
      "metadata": {
        "colab": {
          "base_uri": "https://localhost:8080/"
        },
        "id": "3QamnHUjZAld",
        "outputId": "b50c5291-148a-4e4e-eeb9-517855b76997"
      },
      "execution_count": 9,
      "outputs": [
        {
          "output_type": "stream",
          "name": "stdout",
          "text": [
            "11\n"
          ]
        }
      ]
    },
    {
      "cell_type": "code",
      "source": [
        "first_name = firstName.upper()\n",
        "last_name = lastName.lower()\n",
        "total_letters = len(first_name + last_name)\n",
        "\n",
        "print(f\"First name (upper): {first_name}\")\n",
        "print(f\"Last name (lower): {last_name}\")\n",
        "print(\"Sum of letters in your first and last name:\", total_letters)"
      ],
      "metadata": {
        "colab": {
          "base_uri": "https://localhost:8080/"
        },
        "id": "3KdaHrODcBmh",
        "outputId": "8a448207-4e8d-4266-c5d3-55e8c329c7b8"
      },
      "execution_count": 10,
      "outputs": [
        {
          "output_type": "stream",
          "name": "stdout",
          "text": [
            "First name (upper): EASHAH\n",
            "Last name (lower): emaan\n",
            "Sum of letters in your first and last name: 11\n"
          ]
        }
      ]
    },
    {
      "cell_type": "markdown",
      "source": [
        "Task 2"
      ],
      "metadata": {
        "id": "TDCUmqvzcTOo"
      }
    },
    {
      "cell_type": "code",
      "source": [
        "print(\"Calculate the area of following shapes:\")\n",
        "print(\"1. Circle\")\n",
        "print(\"2. Rectangle\")\n",
        "print(\"3. Square\")\n",
        "print(\"4. Triangle\")\n",
        "shape = input(\"Find the area of : \")"
      ],
      "metadata": {
        "colab": {
          "base_uri": "https://localhost:8080/"
        },
        "id": "ZaJCaBl6cUFH",
        "outputId": "ae781b67-0102-4f94-bbb6-e5c56705d05a"
      },
      "execution_count": 14,
      "outputs": [
        {
          "name": "stdout",
          "output_type": "stream",
          "text": [
            "Calculate the area of following shapes:\n",
            "1. Circle\n",
            "2. Rectangle\n",
            "3. Square\n",
            "4. Triangle\n",
            "Find the area of : Circle\n"
          ]
        }
      ]
    },
    {
      "cell_type": "code",
      "source": [
        "radius = float(input(\"Enter the radius of the circle: \"))\n",
        "area = 3.14159 * (radius ** 2)\n",
        "print(f\"The area of the circle is: {area:.2f}\")\n",
        "\n",
        "length = float(input(\"Enter the length of the rectangle: \"))\n",
        "width = float(input(\"Enter the width of the rectangle: \"))\n",
        "area = length * width\n",
        "print(f\"The area of the rectangle is: {area:.2f}\")\n",
        "\n",
        "side = float(input(\"Enter the side length of the square: \"))\n",
        "area = side * side\n",
        "print(f\"The area of the square is: {area:.2f}\")\n",
        "\n",
        "base = float(input(\"Enter the base length of the triangle: \"))\n",
        "height = float(input(\"Enter the height of the triangle: \"))\n",
        "area = 0.5 * base * height\n",
        "print(f\"The area of the triangle is: {area:.2f}\")\n",
        "\n",
        "\n",
        "\n",
        "\n"
      ],
      "metadata": {
        "colab": {
          "base_uri": "https://localhost:8080/"
        },
        "id": "13GUu21lcW8T",
        "outputId": "218bf6ad-0cc0-48df-8038-2c82302a5850"
      },
      "execution_count": 15,
      "outputs": [
        {
          "output_type": "stream",
          "name": "stdout",
          "text": [
            "Enter the radius of the circle: 2\n",
            "The area of the circle is: 12.57\n",
            "Enter the length of the rectangle: 2\n",
            "Enter the width of the rectangle: 4\n",
            "The area of the rectangle is: 8.00\n",
            "Enter the side length of the square: 2\n",
            "The area of the square is: 4.00\n",
            "Enter the base length of the triangle: 4\n",
            "Enter the height of the triangle: 5\n",
            "The area of the triangle is: 10.00\n"
          ]
        }
      ]
    },
    {
      "cell_type": "code",
      "source": [
        "import random\n"
      ],
      "metadata": {
        "id": "5M3GVMg4eKT3"
      },
      "execution_count": 16,
      "outputs": []
    },
    {
      "cell_type": "code",
      "source": [
        "olors = [\"red\", \"blue\", \"green\", \"yellow\", \"orange\", \"purple\"]"
      ],
      "metadata": {
        "id": "iLUhNxJfeL5G"
      },
      "execution_count": 17,
      "outputs": []
    },
    {
      "cell_type": "code",
      "source": [
        "index = random.randint(0, len(olors) - 1)"
      ],
      "metadata": {
        "id": "bn1R8An5ePTD"
      },
      "execution_count": 19,
      "outputs": []
    },
    {
      "cell_type": "code",
      "source": [
        "selected_color = olors[index]\n"
      ],
      "metadata": {
        "id": "UxBrqRkweTR_"
      },
      "execution_count": 21,
      "outputs": []
    },
    {
      "cell_type": "code",
      "source": [
        "\n",
        "password = selected_color[::-1]"
      ],
      "metadata": {
        "id": "DloRwFr9eZrM"
      },
      "execution_count": 22,
      "outputs": []
    },
    {
      "cell_type": "code",
      "source": [
        "\n",
        "print(\"Selected Color:\", selected_color)\n",
        "print(\"Generated Password:\", password)"
      ],
      "metadata": {
        "colab": {
          "base_uri": "https://localhost:8080/"
        },
        "id": "S2Kgo0BYeffq",
        "outputId": "ab0ea179-3422-4179-9076-4df6a513095f"
      },
      "execution_count": 23,
      "outputs": [
        {
          "output_type": "stream",
          "name": "stdout",
          "text": [
            "Selected Color: purple\n",
            "Generated Password: elprup\n"
          ]
        }
      ]
    },
    {
      "cell_type": "code",
      "source": [],
      "metadata": {
        "id": "_ZIz9dbGenIR"
      },
      "execution_count": null,
      "outputs": []
    }
  ]
}