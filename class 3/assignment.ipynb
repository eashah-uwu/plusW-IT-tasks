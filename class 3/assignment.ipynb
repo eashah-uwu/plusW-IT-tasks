{
 "cells": [
  {
   "cell_type": "code",
   "execution_count": 1,
   "metadata": {},
   "outputs": [
    {
     "name": "stdout",
     "output_type": "stream",
     "text": [
      "Your tasks:\n",
      "- Finish homework\n",
      "- Buy groceries\n",
      "Your tasks:\n",
      "- Finish homework\n"
     ]
    }
   ],
   "source": [
    "# Initialize an empty list\n",
    "tasks = []\n",
    "\n",
    "# Function to add tasks\n",
    "def add_task(task):\n",
    "    tasks.append(task)\n",
    "\n",
    "# Function to remove tasks\n",
    "def remove_task(task):\n",
    "    if task in tasks:\n",
    "        tasks.remove(task)\n",
    "    else:\n",
    "        print(f\"Task '{task}' not found in the list.\")\n",
    "\n",
    "# Function to view tasks\n",
    "def view_tasks():\n",
    "    if tasks:\n",
    "        print(\"Your tasks:\")\n",
    "        for task in tasks:\n",
    "            print(f\"- {task}\")\n",
    "    else:\n",
    "        print(\"No tasks available.\")\n",
    "\n",
    "# Example Usage\n",
    "add_task(\"Finish homework\")\n",
    "add_task(\"Buy groceries\")\n",
    "view_tasks()\n",
    "\n",
    "remove_task(\"Buy groceries\")\n",
    "view_tasks()\n"
   ]
  },
  {
   "cell_type": "code",
   "execution_count": 2,
   "metadata": {},
   "outputs": [
    {
     "name": "stdout",
     "output_type": "stream",
     "text": [
      "Max: 9, Min: 1\n"
     ]
    }
   ],
   "source": [
    "# Function to find max and min values in a list\n",
    "def find_max_min(lst):\n",
    "    if not lst:  # Check if the list is empty\n",
    "        return None, None  \n",
    "\n",
    "    # Initialize max and min with the first element\n",
    "    max_val = lst[0]\n",
    "    min_val = lst[0]\n",
    "\n",
    "\n",
    "    for num in lst:\n",
    "        if num > max_val:\n",
    "            max_val = num\n",
    "        if num < min_val:\n",
    "            min_val = num\n",
    "\n",
    "    return max_val, min_val\n",
    "\n",
    "numbers = [3, 9, 2, 8, 1]\n",
    "max_val, min_val = find_max_min(numbers)\n",
    "print(f\"Max: {max_val}, Min: {min_val}\")\n"
   ]
  },
  {
   "cell_type": "code",
   "execution_count": null,
   "metadata": {},
   "outputs": [
    {
     "name": "stdout",
     "output_type": "stream",
     "text": [
      "1234567890\n",
      "9876543210\n",
      "Contact not found\n"
     ]
    }
   ],
   "source": [
    "\n",
    "phonebook = {}\n",
    "\n",
    "def add_contact(name, number):\n",
    "    phonebook[name] = number\n",
    "\n",
    "def get_number(name):\n",
    "    return phonebook.get(name, \"Contact not found\")\n",
    "\n",
    "add_contact(\"Alice\", \"1234567890\")\n",
    "add_contact(\"Bob\", \"9876543210\")\n",
    "\n",
    "print(get_number(\"Alice\"))  \n",
    "print(get_number(\"Bob\"))   \n",
    "print(get_number(\"Charlie\"))  "
   ]
  },
  {
   "cell_type": "code",
   "execution_count": 2,
   "metadata": {},
   "outputs": [
    {
     "name": "stdout",
     "output_type": "stream",
     "text": [
      "Apple: 7\n",
      "Banana: 5\n"
     ]
    }
   ],
   "source": [
    "# Initialize an empty dictionary\n",
    "inventory = {}\n",
    "\n",
    "# Function to add items\n",
    "def add_item(item, quantity):\n",
    "    if item in inventory:\n",
    "        inventory[item] += quantity\n",
    "    else:\n",
    "        inventory[item] = quantity\n",
    "\n",
    "# Function to remove items\n",
    "def remove_item(item, quantity):\n",
    "    if item in inventory and inventory[item] >= quantity:\n",
    "        inventory[item] -= quantity\n",
    "        if inventory[item] == 0:\n",
    "            del inventory[item]\n",
    "    else:\n",
    "        print(f\"Insufficient quantity of {item}.\")\n",
    "\n",
    "# Function to view inventory\n",
    "def view_inventory():\n",
    "    for item, quantity in inventory.items():\n",
    "        print(f\"{item}: {quantity}\")\n",
    "\n",
    "# Example usage\n",
    "add_item(\"Apple\", 10)\n",
    "add_item(\"Banana\", 5)\n",
    "remove_item(\"Apple\", 3)\n",
    "view_inventory()\n"
   ]
  },
  {
   "cell_type": "code",
   "execution_count": null,
   "metadata": {},
   "outputs": [
    {
     "name": "stdout",
     "output_type": "stream",
     "text": [
      "Deposited: 500. New balance: 1500\n",
      "Withdrew: 200. New balance: 1300\n",
      "Current balance: 1300\n"
     ]
    }
   ],
   "source": [
    "def deposit(balance, amount): \n",
    "    balance += amount \n",
    "    print(f\"Deposited: {amount}. New balance: {balance}\") \n",
    "    return balance  # Return the updated balance \n",
    " \n",
    "def withdraw(balance, amount): \n",
    "    if amount <= balance: \n",
    "        balance -= amount \n",
    "        print(f\"Withdrew: {amount}. New balance: {balance}\") \n",
    "    else: \n",
    "        print(\"Insufficient funds\") \n",
    "    return balance  # Return the updated balance \n",
    " \n",
    "def check_balance(balance): \n",
    "    print(f\"Current balance: {balance}\") \n",
    " \n",
    "# Example usage \n",
    "balance = 1000  # Initial balance \n",
    " \n",
    "balance = deposit(balance, 500)  # Deposit money \n",
    "balance = withdraw(balance, 200)  # Withdraw money \n",
    "check_balance(balance)  # Check balance \n"
   ]
  },
  {
   "cell_type": "code",
   "execution_count": 4,
   "metadata": {},
   "outputs": [
    {
     "name": "stdout",
     "output_type": "stream",
     "text": [
      "Deposited: 1000. New balance: 2300\n",
      "Current balance: 2300\n"
     ]
    }
   ],
   "source": [
    "balance = deposit(balance, 1000)  \n",
    "check_balance(balance)"
   ]
  },
  {
   "cell_type": "code",
   "execution_count": null,
   "metadata": {},
   "outputs": [],
   "source": []
  }
 ],
 "metadata": {
  "kernelspec": {
   "display_name": "Python 3",
   "language": "python",
   "name": "python3"
  },
  "language_info": {
   "codemirror_mode": {
    "name": "ipython",
    "version": 3
   },
   "file_extension": ".py",
   "mimetype": "text/x-python",
   "name": "python",
   "nbconvert_exporter": "python",
   "pygments_lexer": "ipython3",
   "version": "3.11.0"
  }
 },
 "nbformat": 4,
 "nbformat_minor": 2
}
